{
  "nbformat": 4,
  "nbformat_minor": 0,
  "metadata": {
    "colab": {
      "name": "pytorch_cifar10.ipynb",
      "provenance": [],
      "collapsed_sections": [
        "8gNviP6i6r2O",
        "hXIQMoyV6uip",
        "FYIyIMyw6fW7",
        "d7KZkQQ25jzl",
        "hbWnWOrP6h_V",
        "aGv8b_pW6llr"
      ],
      "toc_visible": true,
      "authorship_tag": "ABX9TyO0IAlgmCCWoAlPQtSItMjH",
      "include_colab_link": true
    },
    "kernelspec": {
      "name": "python3",
      "display_name": "Python 3"
    },
    "accelerator": "GPU",
    "widgets": {
      "application/vnd.jupyter.widget-state+json": {
        "2325552f8f65467fa7deb6afb9ffb638": {
          "model_module": "@jupyter-widgets/controls",
          "model_name": "HBoxModel",
          "state": {
            "_view_name": "HBoxView",
            "_dom_classes": [],
            "_model_name": "HBoxModel",
            "_view_module": "@jupyter-widgets/controls",
            "_model_module_version": "1.5.0",
            "_view_count": null,
            "_view_module_version": "1.5.0",
            "box_style": "",
            "layout": "IPY_MODEL_c63eed6b9c7e4358a7652192b0fdb996",
            "_model_module": "@jupyter-widgets/controls",
            "children": [
              "IPY_MODEL_fdec5e93a9214054ace028a0b4217e67",
              "IPY_MODEL_6755924f84394e10b3139392c201f497"
            ]
          }
        },
        "c63eed6b9c7e4358a7652192b0fdb996": {
          "model_module": "@jupyter-widgets/base",
          "model_name": "LayoutModel",
          "state": {
            "_view_name": "LayoutView",
            "grid_template_rows": null,
            "right": null,
            "justify_content": null,
            "_view_module": "@jupyter-widgets/base",
            "overflow": null,
            "_model_module_version": "1.2.0",
            "_view_count": null,
            "flex_flow": null,
            "width": null,
            "min_width": null,
            "border": null,
            "align_items": null,
            "bottom": null,
            "_model_module": "@jupyter-widgets/base",
            "top": null,
            "grid_column": null,
            "overflow_y": null,
            "overflow_x": null,
            "grid_auto_flow": null,
            "grid_area": null,
            "grid_template_columns": null,
            "flex": null,
            "_model_name": "LayoutModel",
            "justify_items": null,
            "grid_row": null,
            "max_height": null,
            "align_content": null,
            "visibility": null,
            "align_self": null,
            "height": null,
            "min_height": null,
            "padding": null,
            "grid_auto_rows": null,
            "grid_gap": null,
            "max_width": null,
            "order": null,
            "_view_module_version": "1.2.0",
            "grid_template_areas": null,
            "object_position": null,
            "object_fit": null,
            "grid_auto_columns": null,
            "margin": null,
            "display": null,
            "left": null
          }
        },
        "fdec5e93a9214054ace028a0b4217e67": {
          "model_module": "@jupyter-widgets/controls",
          "model_name": "FloatProgressModel",
          "state": {
            "_view_name": "ProgressView",
            "style": "IPY_MODEL_14e73dd475f64db9bad5fbcb91c90200",
            "_dom_classes": [],
            "description": "",
            "_model_name": "FloatProgressModel",
            "bar_style": "info",
            "max": 1,
            "_view_module": "@jupyter-widgets/controls",
            "_model_module_version": "1.5.0",
            "value": 1,
            "_view_count": null,
            "_view_module_version": "1.5.0",
            "orientation": "horizontal",
            "min": 0,
            "description_tooltip": null,
            "_model_module": "@jupyter-widgets/controls",
            "layout": "IPY_MODEL_c7dd57ff4bd6410b8ce48da403fc5304"
          }
        },
        "6755924f84394e10b3139392c201f497": {
          "model_module": "@jupyter-widgets/controls",
          "model_name": "HTMLModel",
          "state": {
            "_view_name": "HTMLView",
            "style": "IPY_MODEL_cb9d791e76c144dd8b1dbd8ff5068c76",
            "_dom_classes": [],
            "description": "",
            "_model_name": "HTMLModel",
            "placeholder": "​",
            "_view_module": "@jupyter-widgets/controls",
            "_model_module_version": "1.5.0",
            "value": " 170500096/? [00:30&lt;00:00, 14415779.46it/s]",
            "_view_count": null,
            "_view_module_version": "1.5.0",
            "description_tooltip": null,
            "_model_module": "@jupyter-widgets/controls",
            "layout": "IPY_MODEL_9ba175d6350b48a0b0080e3b5bc95c6f"
          }
        },
        "14e73dd475f64db9bad5fbcb91c90200": {
          "model_module": "@jupyter-widgets/controls",
          "model_name": "ProgressStyleModel",
          "state": {
            "_view_name": "StyleView",
            "_model_name": "ProgressStyleModel",
            "description_width": "initial",
            "_view_module": "@jupyter-widgets/base",
            "_model_module_version": "1.5.0",
            "_view_count": null,
            "_view_module_version": "1.2.0",
            "bar_color": null,
            "_model_module": "@jupyter-widgets/controls"
          }
        },
        "c7dd57ff4bd6410b8ce48da403fc5304": {
          "model_module": "@jupyter-widgets/base",
          "model_name": "LayoutModel",
          "state": {
            "_view_name": "LayoutView",
            "grid_template_rows": null,
            "right": null,
            "justify_content": null,
            "_view_module": "@jupyter-widgets/base",
            "overflow": null,
            "_model_module_version": "1.2.0",
            "_view_count": null,
            "flex_flow": null,
            "width": null,
            "min_width": null,
            "border": null,
            "align_items": null,
            "bottom": null,
            "_model_module": "@jupyter-widgets/base",
            "top": null,
            "grid_column": null,
            "overflow_y": null,
            "overflow_x": null,
            "grid_auto_flow": null,
            "grid_area": null,
            "grid_template_columns": null,
            "flex": null,
            "_model_name": "LayoutModel",
            "justify_items": null,
            "grid_row": null,
            "max_height": null,
            "align_content": null,
            "visibility": null,
            "align_self": null,
            "height": null,
            "min_height": null,
            "padding": null,
            "grid_auto_rows": null,
            "grid_gap": null,
            "max_width": null,
            "order": null,
            "_view_module_version": "1.2.0",
            "grid_template_areas": null,
            "object_position": null,
            "object_fit": null,
            "grid_auto_columns": null,
            "margin": null,
            "display": null,
            "left": null
          }
        },
        "cb9d791e76c144dd8b1dbd8ff5068c76": {
          "model_module": "@jupyter-widgets/controls",
          "model_name": "DescriptionStyleModel",
          "state": {
            "_view_name": "StyleView",
            "_model_name": "DescriptionStyleModel",
            "description_width": "",
            "_view_module": "@jupyter-widgets/base",
            "_model_module_version": "1.5.0",
            "_view_count": null,
            "_view_module_version": "1.2.0",
            "_model_module": "@jupyter-widgets/controls"
          }
        },
        "9ba175d6350b48a0b0080e3b5bc95c6f": {
          "model_module": "@jupyter-widgets/base",
          "model_name": "LayoutModel",
          "state": {
            "_view_name": "LayoutView",
            "grid_template_rows": null,
            "right": null,
            "justify_content": null,
            "_view_module": "@jupyter-widgets/base",
            "overflow": null,
            "_model_module_version": "1.2.0",
            "_view_count": null,
            "flex_flow": null,
            "width": null,
            "min_width": null,
            "border": null,
            "align_items": null,
            "bottom": null,
            "_model_module": "@jupyter-widgets/base",
            "top": null,
            "grid_column": null,
            "overflow_y": null,
            "overflow_x": null,
            "grid_auto_flow": null,
            "grid_area": null,
            "grid_template_columns": null,
            "flex": null,
            "_model_name": "LayoutModel",
            "justify_items": null,
            "grid_row": null,
            "max_height": null,
            "align_content": null,
            "visibility": null,
            "align_self": null,
            "height": null,
            "min_height": null,
            "padding": null,
            "grid_auto_rows": null,
            "grid_gap": null,
            "max_width": null,
            "order": null,
            "_view_module_version": "1.2.0",
            "grid_template_areas": null,
            "object_position": null,
            "object_fit": null,
            "grid_auto_columns": null,
            "margin": null,
            "display": null,
            "left": null
          }
        },
        "f74e37dce2b64afab0014c932a8d6a78": {
          "model_module": "@jupyter-widgets/controls",
          "model_name": "HBoxModel",
          "state": {
            "_view_name": "HBoxView",
            "_dom_classes": [],
            "_model_name": "HBoxModel",
            "_view_module": "@jupyter-widgets/controls",
            "_model_module_version": "1.5.0",
            "_view_count": null,
            "_view_module_version": "1.5.0",
            "box_style": "",
            "layout": "IPY_MODEL_9d4b0d7b116f4d35af38ebe033e08d41",
            "_model_module": "@jupyter-widgets/controls",
            "children": [
              "IPY_MODEL_0868feceda0c432d82dfc9b980a2b6be",
              "IPY_MODEL_fd0470751442437489b605652c5033e8"
            ]
          }
        },
        "9d4b0d7b116f4d35af38ebe033e08d41": {
          "model_module": "@jupyter-widgets/base",
          "model_name": "LayoutModel",
          "state": {
            "_view_name": "LayoutView",
            "grid_template_rows": null,
            "right": null,
            "justify_content": null,
            "_view_module": "@jupyter-widgets/base",
            "overflow": null,
            "_model_module_version": "1.2.0",
            "_view_count": null,
            "flex_flow": null,
            "width": null,
            "min_width": null,
            "border": null,
            "align_items": null,
            "bottom": null,
            "_model_module": "@jupyter-widgets/base",
            "top": null,
            "grid_column": null,
            "overflow_y": null,
            "overflow_x": null,
            "grid_auto_flow": null,
            "grid_area": null,
            "grid_template_columns": null,
            "flex": null,
            "_model_name": "LayoutModel",
            "justify_items": null,
            "grid_row": null,
            "max_height": null,
            "align_content": null,
            "visibility": null,
            "align_self": null,
            "height": null,
            "min_height": null,
            "padding": null,
            "grid_auto_rows": null,
            "grid_gap": null,
            "max_width": null,
            "order": null,
            "_view_module_version": "1.2.0",
            "grid_template_areas": null,
            "object_position": null,
            "object_fit": null,
            "grid_auto_columns": null,
            "margin": null,
            "display": null,
            "left": null
          }
        },
        "0868feceda0c432d82dfc9b980a2b6be": {
          "model_module": "@jupyter-widgets/controls",
          "model_name": "FloatProgressModel",
          "state": {
            "_view_name": "ProgressView",
            "style": "IPY_MODEL_546119f9f1f7481f9daf6d036fb70487",
            "_dom_classes": [],
            "description": "",
            "_model_name": "FloatProgressModel",
            "bar_style": "info",
            "max": 1,
            "_view_module": "@jupyter-widgets/controls",
            "_model_module_version": "1.5.0",
            "value": 1,
            "_view_count": null,
            "_view_module_version": "1.5.0",
            "orientation": "horizontal",
            "min": 0,
            "description_tooltip": null,
            "_model_module": "@jupyter-widgets/controls",
            "layout": "IPY_MODEL_56170de604d44453b09bd0058d2a5bc4"
          }
        },
        "fd0470751442437489b605652c5033e8": {
          "model_module": "@jupyter-widgets/controls",
          "model_name": "HTMLModel",
          "state": {
            "_view_name": "HTMLView",
            "style": "IPY_MODEL_922c59798dec4a9da648cfa11043b1ca",
            "_dom_classes": [],
            "description": "",
            "_model_name": "HTMLModel",
            "placeholder": "​",
            "_view_module": "@jupyter-widgets/controls",
            "_model_module_version": "1.5.0",
            "value": " 170500096/? [00:32&lt;00:00, 14593885.55it/s]",
            "_view_count": null,
            "_view_module_version": "1.5.0",
            "description_tooltip": null,
            "_model_module": "@jupyter-widgets/controls",
            "layout": "IPY_MODEL_cb7a575d29734af587a9543ff5cb59f4"
          }
        },
        "546119f9f1f7481f9daf6d036fb70487": {
          "model_module": "@jupyter-widgets/controls",
          "model_name": "ProgressStyleModel",
          "state": {
            "_view_name": "StyleView",
            "_model_name": "ProgressStyleModel",
            "description_width": "initial",
            "_view_module": "@jupyter-widgets/base",
            "_model_module_version": "1.5.0",
            "_view_count": null,
            "_view_module_version": "1.2.0",
            "bar_color": null,
            "_model_module": "@jupyter-widgets/controls"
          }
        },
        "56170de604d44453b09bd0058d2a5bc4": {
          "model_module": "@jupyter-widgets/base",
          "model_name": "LayoutModel",
          "state": {
            "_view_name": "LayoutView",
            "grid_template_rows": null,
            "right": null,
            "justify_content": null,
            "_view_module": "@jupyter-widgets/base",
            "overflow": null,
            "_model_module_version": "1.2.0",
            "_view_count": null,
            "flex_flow": null,
            "width": null,
            "min_width": null,
            "border": null,
            "align_items": null,
            "bottom": null,
            "_model_module": "@jupyter-widgets/base",
            "top": null,
            "grid_column": null,
            "overflow_y": null,
            "overflow_x": null,
            "grid_auto_flow": null,
            "grid_area": null,
            "grid_template_columns": null,
            "flex": null,
            "_model_name": "LayoutModel",
            "justify_items": null,
            "grid_row": null,
            "max_height": null,
            "align_content": null,
            "visibility": null,
            "align_self": null,
            "height": null,
            "min_height": null,
            "padding": null,
            "grid_auto_rows": null,
            "grid_gap": null,
            "max_width": null,
            "order": null,
            "_view_module_version": "1.2.0",
            "grid_template_areas": null,
            "object_position": null,
            "object_fit": null,
            "grid_auto_columns": null,
            "margin": null,
            "display": null,
            "left": null
          }
        },
        "922c59798dec4a9da648cfa11043b1ca": {
          "model_module": "@jupyter-widgets/controls",
          "model_name": "DescriptionStyleModel",
          "state": {
            "_view_name": "StyleView",
            "_model_name": "DescriptionStyleModel",
            "description_width": "",
            "_view_module": "@jupyter-widgets/base",
            "_model_module_version": "1.5.0",
            "_view_count": null,
            "_view_module_version": "1.2.0",
            "_model_module": "@jupyter-widgets/controls"
          }
        },
        "cb7a575d29734af587a9543ff5cb59f4": {
          "model_module": "@jupyter-widgets/base",
          "model_name": "LayoutModel",
          "state": {
            "_view_name": "LayoutView",
            "grid_template_rows": null,
            "right": null,
            "justify_content": null,
            "_view_module": "@jupyter-widgets/base",
            "overflow": null,
            "_model_module_version": "1.2.0",
            "_view_count": null,
            "flex_flow": null,
            "width": null,
            "min_width": null,
            "border": null,
            "align_items": null,
            "bottom": null,
            "_model_module": "@jupyter-widgets/base",
            "top": null,
            "grid_column": null,
            "overflow_y": null,
            "overflow_x": null,
            "grid_auto_flow": null,
            "grid_area": null,
            "grid_template_columns": null,
            "flex": null,
            "_model_name": "LayoutModel",
            "justify_items": null,
            "grid_row": null,
            "max_height": null,
            "align_content": null,
            "visibility": null,
            "align_self": null,
            "height": null,
            "min_height": null,
            "padding": null,
            "grid_auto_rows": null,
            "grid_gap": null,
            "max_width": null,
            "order": null,
            "_view_module_version": "1.2.0",
            "grid_template_areas": null,
            "object_position": null,
            "object_fit": null,
            "grid_auto_columns": null,
            "margin": null,
            "display": null,
            "left": null
          }
        }
      }
    }
  },
  "cells": [
    {
      "cell_type": "markdown",
      "metadata": {
        "id": "view-in-github",
        "colab_type": "text"
      },
      "source": [
        "<a href=\"https://colab.research.google.com/github/prithvijaunjale/Deep-Learning/blob/master/pytorch_cifar10.ipynb\" target=\"_parent\"><img src=\"https://colab.research.google.com/assets/colab-badge.svg\" alt=\"Open In Colab\"/></a>"
      ]
    },
    {
      "cell_type": "markdown",
      "metadata": {
        "id": "8gNviP6i6r2O",
        "colab_type": "text"
      },
      "source": [
        "### Imports"
      ]
    },
    {
      "cell_type": "code",
      "metadata": {
        "id": "MZR2H7kH32Jz",
        "colab_type": "code",
        "colab": {}
      },
      "source": [
        "import torch\n",
        "from torchvision import datasets, transforms, models\n",
        "from torch.utils.data import DataLoader\n",
        "from torch import nn\n",
        "from torch import optim\n",
        "import torch.nn.functional as F\n",
        "\n",
        "import matplotlib.pyplot as plt\n",
        "import numpy as np\n",
        "from tqdm.notebook import tqdm\n",
        "from pprint import pprint \n",
        "\n",
        "from sklearn.metrics import accuracy_score, f1_score, classification_report"
      ],
      "execution_count": null,
      "outputs": []
    },
    {
      "cell_type": "markdown",
      "metadata": {
        "id": "hXIQMoyV6uip",
        "colab_type": "text"
      },
      "source": [
        "### Data Preprocessing"
      ]
    },
    {
      "cell_type": "code",
      "metadata": {
        "id": "w46ebck4uiys",
        "colab_type": "code",
        "colab": {}
      },
      "source": [
        "transform = transforms.Compose([transforms.ToTensor(),\n",
        "                                transforms.Normalize((0.5, 0.5, 0.5), (0.5, 0.5, 0.5))\n",
        "                                ])"
      ],
      "execution_count": null,
      "outputs": []
    },
    {
      "cell_type": "code",
      "metadata": {
        "id": "8SNMNhSc3-OY",
        "colab_type": "code",
        "colab": {
          "base_uri": "https://localhost:8080/",
          "height": 170,
          "referenced_widgets": [
            "2325552f8f65467fa7deb6afb9ffb638",
            "c63eed6b9c7e4358a7652192b0fdb996",
            "fdec5e93a9214054ace028a0b4217e67",
            "6755924f84394e10b3139392c201f497",
            "14e73dd475f64db9bad5fbcb91c90200",
            "c7dd57ff4bd6410b8ce48da403fc5304",
            "cb9d791e76c144dd8b1dbd8ff5068c76",
            "9ba175d6350b48a0b0080e3b5bc95c6f",
            "f74e37dce2b64afab0014c932a8d6a78",
            "9d4b0d7b116f4d35af38ebe033e08d41",
            "0868feceda0c432d82dfc9b980a2b6be",
            "fd0470751442437489b605652c5033e8",
            "546119f9f1f7481f9daf6d036fb70487",
            "56170de604d44453b09bd0058d2a5bc4",
            "922c59798dec4a9da648cfa11043b1ca",
            "cb7a575d29734af587a9543ff5cb59f4"
          ]
        },
        "outputId": "689af405-2aa2-499a-9e76-3e16a85cfcc2"
      },
      "source": [
        "train_data = datasets.CIFAR10('CIFAR10_data/train/', train=True, download=True, transform=transform)\n",
        "train_dataloader = DataLoader(train_data, batch_size=64, shuffle=True)\n",
        "\n",
        "test_data = datasets.CIFAR10('CIFAR10_data/test/', train=False, download=True, transform=transform)\n",
        "test_dataloader = DataLoader(test_data, batch_size=64, shuffle=True)"
      ],
      "execution_count": null,
      "outputs": [
        {
          "output_type": "stream",
          "text": [
            "Downloading https://www.cs.toronto.edu/~kriz/cifar-10-python.tar.gz to CIFAR10_data/train/cifar-10-python.tar.gz\n"
          ],
          "name": "stdout"
        },
        {
          "output_type": "display_data",
          "data": {
            "application/vnd.jupyter.widget-view+json": {
              "model_id": "2325552f8f65467fa7deb6afb9ffb638",
              "version_minor": 0,
              "version_major": 2
            },
            "text/plain": [
              "HBox(children=(FloatProgress(value=1.0, bar_style='info', max=1.0), HTML(value='')))"
            ]
          },
          "metadata": {
            "tags": []
          }
        },
        {
          "output_type": "stream",
          "text": [
            "Extracting CIFAR10_data/train/cifar-10-python.tar.gz to CIFAR10_data/train/\n",
            "Downloading https://www.cs.toronto.edu/~kriz/cifar-10-python.tar.gz to CIFAR10_data/test/cifar-10-python.tar.gz\n"
          ],
          "name": "stdout"
        },
        {
          "output_type": "display_data",
          "data": {
            "application/vnd.jupyter.widget-view+json": {
              "model_id": "f74e37dce2b64afab0014c932a8d6a78",
              "version_minor": 0,
              "version_major": 2
            },
            "text/plain": [
              "HBox(children=(FloatProgress(value=1.0, bar_style='info', max=1.0), HTML(value='')))"
            ]
          },
          "metadata": {
            "tags": []
          }
        },
        {
          "output_type": "stream",
          "text": [
            "Extracting CIFAR10_data/test/cifar-10-python.tar.gz to CIFAR10_data/test/\n"
          ],
          "name": "stdout"
        }
      ]
    },
    {
      "cell_type": "code",
      "metadata": {
        "id": "EyLg-7HQ77Az",
        "colab_type": "code",
        "colab": {
          "base_uri": "https://localhost:8080/",
          "height": 69
        },
        "outputId": "b4d7e920-7531-4bb3-c121-50ab9dd72928"
      },
      "source": [
        "b_images, b_labels = next(iter(train_dataloader))\n",
        "print('1 batch:', b_images.shape)\n",
        "print('Flattened:', b_images.view(b_images.shape[0], -1).shape)\n",
        "print('Labels:', b_labels.shape)"
      ],
      "execution_count": null,
      "outputs": [
        {
          "output_type": "stream",
          "text": [
            "1 batch: torch.Size([64, 3, 32, 32])\n",
            "Flattened: torch.Size([64, 3072])\n",
            "Labels: torch.Size([64])\n"
          ],
          "name": "stdout"
        }
      ]
    },
    {
      "cell_type": "code",
      "metadata": {
        "id": "6I6Zbh5MEeFR",
        "colab_type": "code",
        "colab": {
          "base_uri": "https://localhost:8080/",
          "height": 69
        },
        "outputId": "106a1c6c-f041-4ee6-8dc5-0f21e1cf5693"
      },
      "source": [
        "b_labels"
      ],
      "execution_count": null,
      "outputs": [
        {
          "output_type": "execute_result",
          "data": {
            "text/plain": [
              "tensor([4, 0, 9, 3, 6, 1, 7, 6, 6, 5, 3, 8, 3, 6, 2, 7, 0, 0, 7, 2, 7, 7, 0, 7,\n",
              "        2, 9, 3, 8, 1, 5, 6, 9, 5, 7, 5, 9, 8, 0, 5, 0, 6, 5, 0, 3, 0, 8, 4, 1,\n",
              "        7, 1, 2, 6, 7, 2, 7, 1, 9, 5, 5, 6, 1, 0, 9, 6])"
            ]
          },
          "metadata": {
            "tags": []
          },
          "execution_count": 5
        }
      ]
    },
    {
      "cell_type": "markdown",
      "metadata": {
        "id": "FYIyIMyw6fW7",
        "colab_type": "text"
      },
      "source": [
        "### Train Model"
      ]
    },
    {
      "cell_type": "code",
      "metadata": {
        "id": "rUf9Z6J3MCuI",
        "colab_type": "code",
        "colab": {
          "base_uri": "https://localhost:8080/",
          "height": 35
        },
        "outputId": "bea1afd9-8a99-41b5-a1b9-a68c4e167633"
      },
      "source": [
        "device = torch.device('cuda' if torch.cuda.is_available() else 'cpu')\n",
        "device"
      ],
      "execution_count": null,
      "outputs": [
        {
          "output_type": "execute_result",
          "data": {
            "text/plain": [
              "device(type='cuda')"
            ]
          },
          "metadata": {
            "tags": []
          },
          "execution_count": 6
        }
      ]
    },
    {
      "cell_type": "code",
      "metadata": {
        "id": "en5x6RaUAiYm",
        "colab_type": "code",
        "colab": {}
      },
      "source": [
        "# define model architecure\n",
        "class Model(nn.Module):\n",
        "    def __init__(self):\n",
        "        super().__init__()\n",
        "\n",
        "        # input dimensions: 32x32x3\n",
        "        self.conv1 = nn.Conv2d(in_channels=3, out_channels=16, kernel_size=3, padding=1)\n",
        "        self.conv2 = nn.Conv2d(in_channels=16, out_channels=32, kernel_size=3, padding=1)\n",
        "        self.conv3 = nn.Conv2d(in_channels=32, out_channels=64, kernel_size=3, padding=1)\n",
        "\n",
        "        # (Input | 32*32) -> (MaxPool | 16*16) -> (MaxPool | 8*8) -> (MaxPool | 4*4)\n",
        "        self.fc1 = nn.Linear(in_features=64*4*4, out_features=512)\n",
        "        self.output = nn.Linear(in_features=512, out_features=10)\n",
        "\n",
        "        self.dropout = nn.Dropout(p=0.25)\n",
        "\n",
        "        self.maxpool = nn.MaxPool2d((2, 2))\n",
        "\n",
        "    def forward(self, x):\n",
        "        conv1_out = F.relu(self.conv1(x))\n",
        "        x = self.maxpool(conv1_out)\n",
        "        conv2_out = F.relu(self.conv2(x))\n",
        "        x = self.maxpool(conv2_out)\n",
        "        conv3_out = F.relu(self.conv3(x))\n",
        "        final_pool_out = self.maxpool(conv3_out)\n",
        "\n",
        "        # flatten\n",
        "        x = final_pool_out.view(-1, 64*4*4)\n",
        "        # (Input | 32*32) -> (MaxPool | 16*16) -> (MaxPool | 8*8) -> (MaxPool | 4*4)\n",
        "\n",
        "        x = self.dropout(x)\n",
        "        x = F.relu(self.fc1(x))\n",
        "\n",
        "        x = self.dropout(x)\n",
        "        x = F.relu(self.output(x))\n",
        "\n",
        "        return x, conv1_out, conv2_out, conv3_out, final_pool_out"
      ],
      "execution_count": null,
      "outputs": []
    },
    {
      "cell_type": "code",
      "metadata": {
        "id": "jcBJtRONJqsu",
        "colab_type": "code",
        "colab": {
          "base_uri": "https://localhost:8080/",
          "height": 193
        },
        "outputId": "dedc5d70-966f-41f4-b47e-7071b53b6484"
      },
      "source": [
        "model = Model()\n",
        "model.to(device)"
      ],
      "execution_count": null,
      "outputs": [
        {
          "output_type": "execute_result",
          "data": {
            "text/plain": [
              "Model(\n",
              "  (conv1): Conv2d(3, 16, kernel_size=(3, 3), stride=(1, 1), padding=(1, 1))\n",
              "  (conv2): Conv2d(16, 32, kernel_size=(3, 3), stride=(1, 1), padding=(1, 1))\n",
              "  (conv3): Conv2d(32, 64, kernel_size=(3, 3), stride=(1, 1), padding=(1, 1))\n",
              "  (fc1): Linear(in_features=1024, out_features=512, bias=True)\n",
              "  (output): Linear(in_features=512, out_features=10, bias=True)\n",
              "  (dropout): Dropout(p=0.25, inplace=False)\n",
              "  (maxpool): MaxPool2d(kernel_size=(2, 2), stride=(2, 2), padding=0, dilation=1, ceil_mode=False)\n",
              ")"
            ]
          },
          "metadata": {
            "tags": []
          },
          "execution_count": 8
        }
      ]
    },
    {
      "cell_type": "code",
      "metadata": {
        "id": "EjUM3F84UPu6",
        "colab_type": "code",
        "colab": {}
      },
      "source": [
        "criterion = nn.CrossEntropyLoss()\n",
        "optimizer = optim.Adam(model.parameters(), lr=0.003)\n",
        "epochs = 5"
      ],
      "execution_count": null,
      "outputs": []
    },
    {
      "cell_type": "code",
      "metadata": {
        "id": "_BrYUD4PJ8kQ",
        "colab_type": "code",
        "colab": {}
      },
      "source": [
        "training_losses, val_losses = [], []\n",
        "conv_outs = []\n",
        "CONV_OUT = False\n",
        "\n",
        "for epoch in range(epochs):\n",
        "    # Training\n",
        "    train_loss = 0\n",
        "    model.train()\n",
        "    steps = 0\n",
        "    for batch in tqdm(train_dataloader, desc='Epoch ' + str(epoch)):\n",
        "        b_inputs, b_labels = batch\n",
        "        b_inputs, b_labels = b_inputs.to(device), b_labels.to(device)\n",
        "\n",
        "        # clear accumulated gradients\n",
        "        optimizer.zero_grad()\n",
        "\n",
        "        # forward pass\n",
        "        logits = model.forward(b_inputs)\n",
        "        print(logits[0].shape, b_labels.shape)\n",
        "        if CONV_OUT:\n",
        "            conv_outs.append(logits[1:])\n",
        "            if steps == 1:\n",
        "                break\n",
        "\n",
        "        # calc loss\n",
        "        loss = criterion(logits[0], b_labels)\n",
        "        train_loss += loss.item()\n",
        "\n",
        "        # backward pass\n",
        "        loss.backward()\n",
        "\n",
        "        # update weights\n",
        "        optimizer.step()\n",
        "        steps += 1\n",
        "    \n",
        "    training_losses.append(train_loss/len(train_dataloader))\n",
        "    print('Avg training loss:', train_loss/len(train_dataloader))\n",
        "\n",
        "    # Validation\n",
        "    val_loss = 0\n",
        "    pred, truth = [], []\n",
        "    model.eval()\n",
        "    for batch in test_dataloader:\n",
        "        b_inputs, b_labels = batch\n",
        "        b_inputs, b_labels = b_inputs.to(device), b_labels.to(device)\n",
        "\n",
        "        with torch.no_grad():\n",
        "            logits = model.forward(b_inputs)\n",
        "            loss = criterion(logits[0], b_labels)\n",
        "\n",
        "            val_loss += loss.item()\n",
        "\n",
        "            logits = logits[0].detach().cpu().numpy()\n",
        "            b_labels = b_labels.detach().cpu().numpy()\n",
        "\n",
        "            pred.extend(np.argmax(logits, axis=1))\n",
        "            truth.extend(b_labels)\n",
        "\n",
        "    val_losses.append(val_loss/len(test_dataloader))\n",
        "    print('Validation loss:', val_loss/len(test_dataloader))\n",
        "    print('Validation accuracy:', accuracy_score(truth, pred))"
      ],
      "execution_count": null,
      "outputs": []
    },
    {
      "cell_type": "markdown",
      "metadata": {
        "id": "d7KZkQQ25jzl",
        "colab_type": "text"
      },
      "source": [
        "### Understanding Input & Filter dimensions"
      ]
    },
    {
      "cell_type": "code",
      "metadata": {
        "id": "Cz5VSmpF77x5",
        "colab_type": "code",
        "colab": {
          "base_uri": "https://localhost:8080/",
          "height": 55
        },
        "outputId": "6025db58-e7ef-4a1a-daa6-5c994d2062f0"
      },
      "source": [
        "state_dict = model.state_dict()\n",
        "pprint(state_dict.keys())"
      ],
      "execution_count": null,
      "outputs": [
        {
          "output_type": "stream",
          "text": [
            "odict_keys(['conv1.weight', 'conv1.bias', 'conv2.weight', 'conv2.bias', 'conv3.weight', 'conv3.bias', 'fc1.weight', 'fc1.bias', 'output.weight', 'output.bias'])\n"
          ],
          "name": "stdout"
        }
      ]
    },
    {
      "cell_type": "code",
      "metadata": {
        "id": "wBnIv__jf4FZ",
        "colab_type": "code",
        "colab": {
          "base_uri": "https://localhost:8080/",
          "height": 35
        },
        "outputId": "d6637d27-5030-47a6-d7cf-c32cb41c4c1d"
      },
      "source": [
        "# input\n",
        "b_images, b_labels = next(iter(train_dataloader))\n",
        "b_images.shape\n",
        "\n",
        "# BCHW\n",
        "# 64 - batch size\n",
        "# 3 - no. of channels\n",
        "# 32 - height of input\n",
        "# 32 - width of input"
      ],
      "execution_count": null,
      "outputs": [
        {
          "output_type": "execute_result",
          "data": {
            "text/plain": [
              "torch.Size([64, 3, 32, 32])"
            ]
          },
          "metadata": {
            "tags": []
          },
          "execution_count": 78
        }
      ]
    },
    {
      "cell_type": "code",
      "metadata": {
        "id": "XL6TM7p4b7N6",
        "colab_type": "code",
        "colab": {
          "base_uri": "https://localhost:8080/",
          "height": 35
        },
        "outputId": "23cad48f-2154-4a1f-e4fa-68c1ef72615e"
      },
      "source": [
        "# conv2d_1\n",
        "state_dict['conv1.weight'].shape\n",
        "\n",
        "# filter\n",
        "# 16 - no. of filters\n",
        "# 3 - depth (no. of input channels for the first conv layer. Otherwise, no. of filters of the prev conv layer)\n",
        "# 3 - height of filter\n",
        "# 3 - width of filter"
      ],
      "execution_count": null,
      "outputs": [
        {
          "output_type": "execute_result",
          "data": {
            "text/plain": [
              "torch.Size([16, 3, 3, 3])"
            ]
          },
          "metadata": {
            "tags": []
          },
          "execution_count": 79
        }
      ]
    },
    {
      "cell_type": "code",
      "metadata": {
        "id": "VC7_uM3cfgNJ",
        "colab_type": "code",
        "colab": {
          "base_uri": "https://localhost:8080/",
          "height": 35
        },
        "outputId": "faa742cd-80b9-45eb-ab22-854188bb9085"
      },
      "source": [
        "# conv2d_2\n",
        "state_dict['conv2.weight'].shape"
      ],
      "execution_count": null,
      "outputs": [
        {
          "output_type": "execute_result",
          "data": {
            "text/plain": [
              "torch.Size([32, 16, 3, 3])"
            ]
          },
          "metadata": {
            "tags": []
          },
          "execution_count": 80
        }
      ]
    },
    {
      "cell_type": "code",
      "metadata": {
        "id": "fpl3gICdfxX5",
        "colab_type": "code",
        "colab": {
          "base_uri": "https://localhost:8080/",
          "height": 35
        },
        "outputId": "3629d149-9c04-47df-e711-d840da3c9470"
      },
      "source": [
        "# conv2d_3\n",
        "state_dict['conv3.weight'].shape"
      ],
      "execution_count": null,
      "outputs": [
        {
          "output_type": "execute_result",
          "data": {
            "text/plain": [
              "torch.Size([64, 32, 3, 3])"
            ]
          },
          "metadata": {
            "tags": []
          },
          "execution_count": 81
        }
      ]
    },
    {
      "cell_type": "markdown",
      "metadata": {
        "id": "hbWnWOrP6h_V",
        "colab_type": "text"
      },
      "source": [
        "### Understanding Conv2d Output dimensions"
      ]
    },
    {
      "cell_type": "markdown",
      "metadata": {
        "id": "143MODuk7qS-",
        "colab_type": "text"
      },
      "source": [
        "**Input:** n x n = 32 x 32 <br>\n",
        "**Filter:** f x f = 3 x 3 <br>\n",
        "\n",
        "**Feature Map:** <br>\n",
        "* <u>Without Padding</u><br>\n",
        "= (n – f + 1) x (n – f + 1) <br>\n",
        "= (32 - 3 + 1) x (32 - 3 + 1) <br>\n",
        "= 30 x 30 <br>\n",
        "\n",
        "* <u>With Padding</u><br>\n",
        "= (n + 2p – f + 1) x (n + 2p – f + 1) <br>\n",
        "= (32 + 2 x 1 - 3 + 1) x (32 + 2 x 1 - 3 + 1) <br>\n",
        "= 32 x 32\n"
      ]
    },
    {
      "cell_type": "code",
      "metadata": {
        "id": "CudUhA1e3wuI",
        "colab_type": "code",
        "colab": {
          "base_uri": "https://localhost:8080/",
          "height": 35
        },
        "outputId": "ebc7754f-69a6-4877-ae27-ab8919fae989"
      },
      "source": [
        "conv1_out = conv_outs[0][0]\n",
        "conv1_out.shape\n",
        "\n",
        "# 64 - batch size\n",
        "# 16 - no. of feature maps\n",
        "# 32 - height of feature map\n",
        "# 32 - height of feature map"
      ],
      "execution_count": null,
      "outputs": [
        {
          "output_type": "execute_result",
          "data": {
            "text/plain": [
              "torch.Size([64, 16, 32, 32])"
            ]
          },
          "metadata": {
            "tags": []
          },
          "execution_count": 92
        }
      ]
    },
    {
      "cell_type": "code",
      "metadata": {
        "id": "uigpOHL34D20",
        "colab_type": "code",
        "colab": {
          "base_uri": "https://localhost:8080/",
          "height": 35
        },
        "outputId": "3ae077ed-10d0-40e3-9d02-d14ffa7a8483"
      },
      "source": [
        "conv2_out = conv_outs[0][1]\n",
        "conv2_out.shape"
      ],
      "execution_count": null,
      "outputs": [
        {
          "output_type": "execute_result",
          "data": {
            "text/plain": [
              "torch.Size([64, 32, 16, 16])"
            ]
          },
          "metadata": {
            "tags": []
          },
          "execution_count": 93
        }
      ]
    },
    {
      "cell_type": "code",
      "metadata": {
        "id": "g-sy8Az24EHv",
        "colab_type": "code",
        "colab": {
          "base_uri": "https://localhost:8080/",
          "height": 35
        },
        "outputId": "0c1c003c-ad15-45df-8d52-b945e120b519"
      },
      "source": [
        "conv3_out = conv_outs[0][2]\n",
        "conv3_out.shape"
      ],
      "execution_count": null,
      "outputs": [
        {
          "output_type": "execute_result",
          "data": {
            "text/plain": [
              "torch.Size([64, 64, 8, 8])"
            ]
          },
          "metadata": {
            "tags": []
          },
          "execution_count": 94
        }
      ]
    },
    {
      "cell_type": "code",
      "metadata": {
        "id": "FjjHhJ9t_8rN",
        "colab_type": "code",
        "colab": {
          "base_uri": "https://localhost:8080/",
          "height": 35
        },
        "outputId": "6e17b3e4-b25b-494f-b56b-2d40c2f027e6"
      },
      "source": [
        "final_pool_out = conv_outs[0][3]\n",
        "final_pool_out.shape"
      ],
      "execution_count": null,
      "outputs": [
        {
          "output_type": "execute_result",
          "data": {
            "text/plain": [
              "torch.Size([64, 64, 4, 4])"
            ]
          },
          "metadata": {
            "tags": []
          },
          "execution_count": 100
        }
      ]
    },
    {
      "cell_type": "markdown",
      "metadata": {
        "id": "aGv8b_pW6llr",
        "colab_type": "text"
      },
      "source": [
        "### Evaluation"
      ]
    },
    {
      "cell_type": "code",
      "metadata": {
        "id": "lDUyZgtRQuKc",
        "colab_type": "code",
        "colab": {
          "base_uri": "https://localhost:8080/",
          "height": 383
        },
        "outputId": "b8f840fd-f9df-441a-dbe1-2423b9f53c6b"
      },
      "source": [
        "report = classification_report(truth, pred, digits=4)\n",
        "print('Clasification report:\\n', report)"
      ],
      "execution_count": null,
      "outputs": [
        {
          "output_type": "stream",
          "text": [
            "Clasification report:\n",
            "               precision    recall  f1-score   support\n",
            "\n",
            "           0     0.5559    0.7610    0.6425      1000\n",
            "           1     0.8679    0.7950    0.8299      1000\n",
            "           2     0.0000    0.0000    0.0000      1000\n",
            "           3     0.0000    0.0000    0.0000      1000\n",
            "           4     0.5495    0.6100    0.5782      1000\n",
            "           5     0.3866    0.7570    0.5118      1000\n",
            "           6     0.5573    0.8760    0.6812      1000\n",
            "           7     0.7423    0.6540    0.6954      1000\n",
            "           8     0.6752    0.8460    0.7510      1000\n",
            "           9     0.8077    0.7600    0.7831      1000\n",
            "\n",
            "    accuracy                         0.6059     10000\n",
            "   macro avg     0.5142    0.6059    0.5473     10000\n",
            "weighted avg     0.5142    0.6059    0.5473     10000\n",
            "\n"
          ],
          "name": "stdout"
        },
        {
          "output_type": "stream",
          "text": [
            "/usr/local/lib/python3.6/dist-packages/sklearn/metrics/_classification.py:1272: UndefinedMetricWarning: Precision and F-score are ill-defined and being set to 0.0 in labels with no predicted samples. Use `zero_division` parameter to control this behavior.\n",
            "  _warn_prf(average, modifier, msg_start, len(result))\n"
          ],
          "name": "stderr"
        }
      ]
    },
    {
      "cell_type": "code",
      "metadata": {
        "id": "7jYZgjD3TKLU",
        "colab_type": "code",
        "colab": {}
      },
      "source": [
        "plt.plot(training_losses, label='Train loss')\n",
        "plt.plot(val_losses, label='Val loss')\n",
        "plt.legend()"
      ],
      "execution_count": null,
      "outputs": []
    }
  ]
}