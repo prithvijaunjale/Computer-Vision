{
 "cells": [
  {
   "cell_type": "code",
   "execution_count": null,
   "metadata": {
    "colab": {
     "base_uri": "https://localhost:8080/",
     "height": 122
    },
    "colab_type": "code",
    "executionInfo": {
     "elapsed": 34932,
     "status": "ok",
     "timestamp": 1581947800738,
     "user": {
      "displayName": "Prithvi Jaunjale",
      "photoUrl": "https://lh3.googleusercontent.com/a-/AAuE7mB_QLQWartNJGzqTnfHCtI9QNfWVUZPCRqMOIA-mMI=s64",
      "userId": "13343713334670868876"
     },
     "user_tz": -330
    },
    "id": "eJYuY5dAZVB-",
    "outputId": "6cf0a4d1-53d4-4c21-ed38-a97a0ebc4b58"
   },
   "outputs": [],
   "source": [
    "from google.colab import drive\n",
    "drive.mount('drive')"
   ]
  },
  {
   "cell_type": "code",
   "execution_count": null,
   "metadata": {
    "colab": {},
    "colab_type": "code",
    "id": "EI45stAwggSm"
   },
   "outputs": [],
   "source": [
    "from pydrive.auth import GoogleAuth\n",
    "from pydrive.drive import GoogleDrive\n",
    "from google.colab import auth\n",
    "from oauth2client.client import GoogleCredentials\n",
    "\n",
    "# 1. Authenticate and create the PyDrive client.\n",
    "auth.authenticate_user()\n",
    "gauth = GoogleAuth()\n",
    "gauth.credentials = GoogleCredentials.get_application_default()\n",
    "drive = GoogleDrive(gauth)"
   ]
  },
  {
   "cell_type": "code",
   "execution_count": null,
   "metadata": {
    "colab": {
     "base_uri": "https://localhost:8080/",
     "height": 351
    },
    "colab_type": "code",
    "executionInfo": {
     "elapsed": 1837,
     "status": "error",
     "timestamp": 1581947854896,
     "user": {
      "displayName": "Prithvi Jaunjale",
      "photoUrl": "https://lh3.googleusercontent.com/a-/AAuE7mB_QLQWartNJGzqTnfHCtI9QNfWVUZPCRqMOIA-mMI=s64",
      "userId": "13343713334670868876"
     },
     "user_tz": -330
    },
    "id": "fWydyW_ycfkS",
    "outputId": "fa04552e-e500-47de-ede0-e75f1f0e68b4"
   },
   "outputs": [],
   "source": [
    "import os\n",
    "import numpy as np\n",
    "import cv2\n",
    "from tqdm import tqdm\n",
    "\n",
    "REBUILD_DATA = False\n",
    "\n",
    "class DogsVSCats():\n",
    "    IMG_SIZE = 50\n",
    "    CATS = 'cats_dogs/training_set/cats'\n",
    "    DOGS = 'cats_dogs/training_set/dogs'\n",
    "    TESTING = \"cats_dogs/test_set\"\n",
    "    LABELS = {CATS: 0, DOGS: 1}\n",
    "    training_data = []\n",
    "    \n",
    "    print(os.listdir(CATS))\n",
    "    \n",
    "    catcount = 0\n",
    "    dogcount = 0\n",
    "    \n",
    "    def make_training_data(self):\n",
    "        for label in self.LABELS:\n",
    "            print(label)\n",
    "            for file in tqdm(os.listdir(label)):\n",
    "                try:\n",
    "                    path = os.path.join(label, file)\n",
    "                    img = cv2.imread(path, cv2.IMREAD_GRAYSCALE)   #not necessary to convert to b/w in cnns. 3d also works!\n",
    "                                                                   #always check, do you really need colour?\n",
    "                    img = cv2.resize(img, (self.IMG_SIZE, self.IMG_SIZE))\n",
    "\n",
    "                    self.training_data.append([np.array(img), np.eye(2)[self.LABELS[label]]])\n",
    "\n",
    "                    if label == self.CATS:\n",
    "                        self.catcount += 1\n",
    "\n",
    "                    if label == self.DOGS:\n",
    "                        self.dogcount += 1\n",
    "                except Exception as e:\n",
    "                    pass\n",
    "                \n",
    "        np.random.shuffle(self.training_data)\n",
    "        np.save('training_data.npy', self.training_data)\n",
    "        print('Cats:', self.catcount)\n",
    "        print('Dogs:', self.dogcount)\n",
    "    \n",
    "if REBUILD_DATA:\n",
    "    dogsvscats = DogsVSCats()\n",
    "    dogsvscats.make_training_data()\n",
    "\n",
    "\n",
    "training_data = np.load('drive/My Drive/training_data.npy', allow_pickle=True)"
   ]
  },
  {
   "cell_type": "code",
   "execution_count": null,
   "metadata": {
    "colab": {
     "base_uri": "https://localhost:8080/",
     "height": 157
    },
    "colab_type": "code",
    "executionInfo": {
     "elapsed": 4117,
     "status": "ok",
     "timestamp": 1580801116057,
     "user": {
      "displayName": "Prithvi Jaunjale",
      "photoUrl": "https://lh3.googleusercontent.com/a-/AAuE7mB_QLQWartNJGzqTnfHCtI9QNfWVUZPCRqMOIA-mMI=s64",
      "userId": "13343713334670868876"
     },
     "user_tz": -330
    },
    "id": "lHzV4YoniFS_",
    "outputId": "20cedd78-71a7-41c1-922e-113fcd0f45bb"
   },
   "outputs": [],
   "source": [
    "import torch\n",
    "import torch.nn as nn\n",
    "import torch.nn.functional as F\n",
    "\n",
    "class Net(nn.Module):\n",
    "    def __init__(self):\n",
    "        super().__init__() # just run the init of parent class (nn.Module)\n",
    "            \n",
    "        #Convulational Layers\n",
    "        self.conv1 = nn.Conv2d(1, 32, 5) # input is 1 image, 32 output channels, 5x5 kernel / window\n",
    "        self.conv2 = nn.Conv2d(32, 64, 5) # input is 32, bc the first layer output 32. Then we say the output will be 64 channels, 5x5 conv\n",
    "        self.conv3 = nn.Conv2d(64, 128, 5)\n",
    "\n",
    "        x = torch.randn(50,50).view(-1, 1, 50, 50)   #-1: x is a 'batch' of any size. So, if only one item => Batch of 1 item.\n",
    "        self._to_linear = None\n",
    "        self.convs(x)\n",
    "\n",
    "        #Finding fully_connected layers\n",
    "        self.fc1 = nn.Linear(self._to_linear, 512) #flattening.\n",
    "        self.fc2 = nn.Linear(512, 2) # 512 in, 2 out bc we're doing 2 classes (dog vs cat).\n",
    "            \n",
    "    def convs(self, x):\n",
    "        #Max pooling over 2x2\n",
    "        x = F.max_pool2d(F.relu(self.conv1(x)), (2, 2))   #first relu on conv layer, then max pool\n",
    "        x = F.max_pool2d(F.relu(self.conv2(x)), (2, 2))\n",
    "        x = F.max_pool2d(F.relu(self.conv3(x)), (2, 2))\n",
    "        \n",
    "        # print(x[0].shape)\n",
    "        if self._to_linear is None:\n",
    "            self._to_linear = x[0].shape[0] * x[0].shape[1] * x[0].shape[2]   #dimensions of input to nn.Linear\n",
    "        return x   #max_pooled layer, to be passed to nn.Linear (i.e. flattening)\n",
    "    \n",
    "    def forward(self, x):\n",
    "        x = self.convs(x)\n",
    "        \n",
    "        #Flattening\n",
    "        x = x.view(-1, self._to_linear)  # .view is reshape ... this flattens X before \n",
    "        x = F.relu(self.fc1(x))\n",
    "        x = self.fc2(x) #because this is our output layer. No activation here.\n",
    "        return F.softmax(x, dim=1)\n",
    "    \n",
    "    \n",
    "net = Net()   #object of class Net\n",
    "print(net)   # prints object attributes OR class Net data members\n",
    "            "
   ]
  },
  {
   "cell_type": "code",
   "execution_count": null,
   "metadata": {
    "colab": {},
    "colab_type": "code",
    "id": "X2OJS4i3iWQP"
   },
   "outputs": [],
   "source": [
    "import torch.optim as optim\n",
    "\n",
    "optimizer = optim.Adam(net.parameters(), lr=0.001)\n",
    "loss_function = nn.MSELoss()\n",
    "\n",
    "X = torch.Tensor([i[0] for i in training_data]).view(-1, 50, 50)\n",
    "X = X / 255.0\n",
    "y = torch.Tensor([i[1] for i in training_data])\n",
    "\n",
    "testset_percent = 0.1\n",
    "testset_size = int(len(X) * testset_percent)"
   ]
  },
  {
   "cell_type": "code",
   "execution_count": null,
   "metadata": {
    "colab": {
     "base_uri": "https://localhost:8080/",
     "height": 204
    },
    "colab_type": "code",
    "executionInfo": {
     "elapsed": 1402,
     "status": "ok",
     "timestamp": 1580369425353,
     "user": {
      "displayName": "Prithvi Jaunjale",
      "photoUrl": "https://lh3.googleusercontent.com/a-/AAuE7mB_QLQWartNJGzqTnfHCtI9QNfWVUZPCRqMOIA-mMI=s64",
      "userId": "13343713334670868876"
     },
     "user_tz": -330
    },
    "id": "T4xkub2Cn_T9",
    "outputId": "97bbddd8-013e-4af6-f322-bd1d80633c10"
   },
   "outputs": [],
   "source": [
    "print(\"Model's state_dict:\")\n",
    "for param_tensor in net.state_dict():\n",
    "    print(param_tensor, \"\\t\", net.state_dict()[param_tensor].size())"
   ]
  },
  {
   "cell_type": "code",
   "execution_count": null,
   "metadata": {
    "colab": {
     "base_uri": "https://localhost:8080/",
     "height": 34
    },
    "colab_type": "code",
    "executionInfo": {
     "elapsed": 987,
     "status": "ok",
     "timestamp": 1580801141338,
     "user": {
      "displayName": "Prithvi Jaunjale",
      "photoUrl": "https://lh3.googleusercontent.com/a-/AAuE7mB_QLQWartNJGzqTnfHCtI9QNfWVUZPCRqMOIA-mMI=s64",
      "userId": "13343713334670868876"
     },
     "user_tz": -330
    },
    "id": "sKkwCXMjiNJe",
    "outputId": "8ef1c672-b3d5-4cee-b7a9-def5495b7c8a"
   },
   "outputs": [],
   "source": [
    "train_X = X[:-testset_size]   #0 to len(train_X) - testset_size\n",
    "train_y = y[:-testset_size]\n",
    "\n",
    "test_X = X[-testset_size:]   #len(train_X) - testset_size to end\n",
    "test_y = y[-testset_size:]\n",
    "\n",
    "print(type(test_X[0]))"
   ]
  },
  {
   "cell_type": "code",
   "execution_count": null,
   "metadata": {
    "colab": {
     "base_uri": "https://localhost:8080/",
     "height": 34
    },
    "colab_type": "code",
    "executionInfo": {
     "elapsed": 6343,
     "status": "ok",
     "timestamp": 1580367515381,
     "user": {
      "displayName": "Prithvi Jaunjale",
      "photoUrl": "https://lh3.googleusercontent.com/a-/AAuE7mB_QLQWartNJGzqTnfHCtI9QNfWVUZPCRqMOIA-mMI=s64",
      "userId": "13343713334670868876"
     },
     "user_tz": -330
    },
    "id": "9MrXGTUIpO0I",
    "outputId": "1d00f349-474f-43e9-a214-00938622b39a"
   },
   "outputs": [],
   "source": [
    "import torch\n",
    "torch.cuda.is_available()"
   ]
  },
  {
   "cell_type": "code",
   "execution_count": null,
   "metadata": {
    "colab": {
     "base_uri": "https://localhost:8080/",
     "height": 346
    },
    "colab_type": "code",
    "executionInfo": {
     "elapsed": 972,
     "status": "error",
     "timestamp": 1580801217662,
     "user": {
      "displayName": "Prithvi Jaunjale",
      "photoUrl": "https://lh3.googleusercontent.com/a-/AAuE7mB_QLQWartNJGzqTnfHCtI9QNfWVUZPCRqMOIA-mMI=s64",
      "userId": "13343713334670868876"
     },
     "user_tz": -330
    },
    "id": "TLsNY8nqPdmD",
    "outputId": "541cd999-7d4f-4034-ff3c-7862ba197f94"
   },
   "outputs": [],
   "source": [
    "net.load_state_dict(torch.load('drive/My Drive/dogsvscats_stateDict.pt'))\n",
    "net.eval()"
   ]
  },
  {
   "cell_type": "code",
   "execution_count": null,
   "metadata": {
    "colab": {
     "base_uri": "https://localhost:8080/",
     "height": 34
    },
    "colab_type": "code",
    "executionInfo": {
     "elapsed": 29550,
     "status": "ok",
     "timestamp": 1580801271990,
     "user": {
      "displayName": "Prithvi Jaunjale",
      "photoUrl": "https://lh3.googleusercontent.com/a-/AAuE7mB_QLQWartNJGzqTnfHCtI9QNfWVUZPCRqMOIA-mMI=s64",
      "userId": "13343713334670868876"
     },
     "user_tz": -330
    },
    "id": "9ziSRs6ukIjJ",
    "outputId": "8d76bcc6-f7d0-42f5-8e9e-447605b0cec7"
   },
   "outputs": [],
   "source": [
    "BATCH_SIZE = 100\n",
    "#if you're getting memory errors, lower the batch size.\n",
    "\n",
    "EPOCHS = 1\n",
    "\n",
    "for epoch in range(EPOCHS):\n",
    "    for i in range(0, len(train_X), BATCH_SIZE): # from 0, to the len of X, stepping BATCH_SIZE at a time.\n",
    "        batch_X = train_X[i:i + BATCH_SIZE].view(-1, 1, 50, 50)\n",
    "        batch_y = train_y[i:i + BATCH_SIZE]\n",
    "        \n",
    "        net.zero_grad()\n",
    "\n",
    "        outputs = net(batch_X)\n",
    "        loss = loss_function(outputs, batch_y)\n",
    "        loss.backward()\n",
    "        optimizer.step()\n",
    "    print(f\"Epoch: {epoch}. Loss: {loss}\")"
   ]
  },
  {
   "cell_type": "code",
   "execution_count": null,
   "metadata": {
    "colab": {},
    "colab_type": "code",
    "id": "NxKwJfEOott5"
   },
   "outputs": [],
   "source": [
    "trained_model = 'drive/My Drive/dogsvscats_stateDict.pt'\n",
    "torch.save(net.state_dict(), trained_model)"
   ]
  },
  {
   "cell_type": "code",
   "execution_count": null,
   "metadata": {
    "colab": {
     "base_uri": "https://localhost:8080/",
     "height": 34
    },
    "colab_type": "code",
    "executionInfo": {
     "elapsed": 2682,
     "status": "ok",
     "timestamp": 1580801300037,
     "user": {
      "displayName": "Prithvi Jaunjale",
      "photoUrl": "https://lh3.googleusercontent.com/a-/AAuE7mB_QLQWartNJGzqTnfHCtI9QNfWVUZPCRqMOIA-mMI=s64",
      "userId": "13343713334670868876"
     },
     "user_tz": -330
    },
    "id": "yRMJa2RxkgwT",
    "outputId": "37fc92a3-b17e-43d1-db6d-b752fc5755fe"
   },
   "outputs": [],
   "source": [
    "correct = 0\n",
    "total = 0\n",
    "with torch.no_grad():\n",
    "    for i in range(len(test_X)):\n",
    "        real_class = torch.argmax(test_y[i])\n",
    "        net_out = net(test_X[i].view(-1, 1, 50, 50))[0]  # returns a list of lists. \n",
    "        predicted_class = torch.argmax(net_out)\n",
    "        \n",
    "        if predicted_class == real_class:\n",
    "            correct += 1\n",
    "        total += 1\n",
    "print(\"Accuracy: \", round(correct/total, 3))"
   ]
  },
  {
   "cell_type": "code",
   "execution_count": null,
   "metadata": {
    "colab": {},
    "colab_type": "code",
    "id": "Vbk-8ewwXYTU"
   },
   "outputs": [],
   "source": [
    "path = 'drive/My Drive/deep_learning/cat3.jpg'\n",
    "img = cv2.imread(path, cv2.IMREAD_GRAYSCALE)   #not necessary to converty to b/w in cnns. 3d also works!\n",
    "                                                                   #always check, do you really need colour?\n",
    "img = cv2.resize(img, (50, 50))\n",
    "img_arr = np.array(img)"
   ]
  },
  {
   "cell_type": "code",
   "execution_count": null,
   "metadata": {
    "colab": {},
    "colab_type": "code",
    "id": "vKbvIISgentE"
   },
   "outputs": [],
   "source": [
    "%matplotlib inline"
   ]
  },
  {
   "cell_type": "code",
   "execution_count": null,
   "metadata": {
    "colab": {
     "base_uri": "https://localhost:8080/",
     "height": 267
    },
    "colab_type": "code",
    "executionInfo": {
     "elapsed": 1587,
     "status": "ok",
     "timestamp": 1580406247754,
     "user": {
      "displayName": "Prithvi Jaunjale",
      "photoUrl": "https://lh3.googleusercontent.com/a-/AAuE7mB_QLQWartNJGzqTnfHCtI9QNfWVUZPCRqMOIA-mMI=s64",
      "userId": "13343713334670868876"
     },
     "user_tz": -330
    },
    "id": "i0E0FohBeqlQ",
    "outputId": "3eb59142-b49f-4f72-e5fa-80da5b2968a5"
   },
   "outputs": [],
   "source": [
    "import matplotlib.pyplot as plt\n",
    "\n",
    "plt.imshow(img, cmap='gray')\n",
    "plt.show()"
   ]
  },
  {
   "cell_type": "code",
   "execution_count": null,
   "metadata": {
    "colab": {
     "base_uri": "https://localhost:8080/",
     "height": 34
    },
    "colab_type": "code",
    "executionInfo": {
     "elapsed": 2263,
     "status": "ok",
     "timestamp": 1580406252461,
     "user": {
      "displayName": "Prithvi Jaunjale",
      "photoUrl": "https://lh3.googleusercontent.com/a-/AAuE7mB_QLQWartNJGzqTnfHCtI9QNfWVUZPCRqMOIA-mMI=s64",
      "userId": "13343713334670868876"
     },
     "user_tz": -330
    },
    "id": "5q0QeubqfcwE",
    "outputId": "84104e1e-5de4-4fac-cf99-68fd5741bd6b"
   },
   "outputs": [],
   "source": [
    "img_tensor = torch.Tensor(img_arr).view(-1, 50, 50)\n",
    "\n",
    "if torch.argmax(net(img_tensor.view(1, 1, 50, 50))) == torch.argmax(torch.tensor([1, 0])):\n",
    "    print('Its a Cat!')\n",
    "elif torch.argmax(net(img_tensor.view(1, 1, 50, 50))) == torch.argmax(torch.tensor([0, 1])):\n",
    "    print('Its a Dog!')"
   ]
  },
  {
   "cell_type": "code",
   "execution_count": null,
   "metadata": {
    "colab": {
     "base_uri": "https://localhost:8080/",
     "height": 51
    },
    "colab_type": "code",
    "executionInfo": {
     "elapsed": 2605,
     "status": "ok",
     "timestamp": 1580373625851,
     "user": {
      "displayName": "Prithvi Jaunjale",
      "photoUrl": "https://lh3.googleusercontent.com/a-/AAuE7mB_QLQWartNJGzqTnfHCtI9QNfWVUZPCRqMOIA-mMI=s64",
      "userId": "13343713334670868876"
     },
     "user_tz": -330
    },
    "id": "1aQxgm6Mm1EP",
    "outputId": "1b3e0ea1-edb0-4620-8a78-176ec4e27dd7"
   },
   "outputs": [],
   "source": [
    "from torch import cuda\n",
    "\n",
    "train_on_gpu = cuda.is_available()\n",
    "print(f'Train on gpu: {train_on_gpu}')\n",
    "\n",
    "# Number of gpus\n",
    "if train_on_gpu:\n",
    "    gpu_count = cuda.device_count()\n",
    "    print(f'{gpu_count} gpus detected.')\n",
    "    if gpu_count > 1:\n",
    "        multi_gpu = True\n",
    "    else:\n",
    "        multi_gpu = False"
   ]
  }
 ],
 "metadata": {
  "accelerator": "GPU",
  "colab": {
   "authorship_tag": "ABX9TyOlJadr9x4r6Iyy/RVS3IrM",
   "collapsed_sections": [],
   "name": "cnn_dogsvscats.ipynb",
   "provenance": []
  },
  "kernelspec": {
   "display_name": "Python 3",
   "language": "python",
   "name": "python3"
  },
  "language_info": {
   "codemirror_mode": {
    "name": "ipython",
    "version": 3
   },
   "file_extension": ".py",
   "mimetype": "text/x-python",
   "name": "python",
   "nbconvert_exporter": "python",
   "pygments_lexer": "ipython3",
   "version": "3.7.4"
  }
 },
 "nbformat": 4,
 "nbformat_minor": 1
}
